{
 "cells": [
  {
   "cell_type": "code",
   "execution_count": 2,
   "metadata": {
    "collapsed": false,
    "scrolled": false
   },
   "outputs": [
    {
     "name": "stdout",
     "output_type": "stream",
     "text": [
      "[['finally', 'back', 'twitterberry', 'messed', 'up', 'my', 'phone', 'lets', 'try', 'this', 'one', 'out'], ['so', 'board'], ['early', 'night', 'woo'], ['cyktrussell', 'runningtodisney', 'ill', 'bet', 'you', 'both', 'have', 'hot', 'legs'], ['god', 'bless'], ['how', 'wonderful', 'am', 'not', 'able', 'to', 'get', 'to', 'sleep', 'cause', 'my', 'bladders', 'so', 'uncomfortable', 'gtlti', 'think', 'it', 'may', 'be', 'time', 'to', 'just', 'go', 'to', 'the', 'er'], ['clear', 'httpplurkcompz510j'], ['glitterbubbles', 'hello', 'there', 'lt3'], ['because', 'i', 'need', 'a', 'fresh', 'start', 'aaaah', 'that', 'feels', 'nice'], ['juzmcmuz', 'yeah', 'thanks']]\n"
     ]
    }
   ],
   "source": [
    "import tensorflow as tf\n",
    "import cPickle as pickle\n",
    "from collections import defaultdict\n",
    "import re\n",
    "\n",
    "#Read data and do preprocessing\n",
    "def read_data(fn):\n",
    "    with open(fn) as f:\n",
    "        data = pickle.load(f)\n",
    "    \n",
    "    #Clean the text\n",
    "    data_x, data_y = [],[]\n",
    "    pattern = re.compile('[\\W_]+')\n",
    "    for text,label in data:\n",
    "        text = text.strip(\"\\r\\n \").split()\n",
    "        x = []\n",
    "        for word in text:\n",
    "            word = pattern.sub('', word)\n",
    "            word = word.lower()\n",
    "            if 0 < len(word) < 30:\n",
    "                x.append(word)\n",
    "        data_x.append(x)\n",
    "        data_y.append(int(label))\n",
    "    return data_x, data_y\n",
    "\n",
    "train_x, train_y = read_data(\"data/train.p\")\n",
    "print train_x[0:10]"
   ]
  },
  {
   "cell_type": "code",
   "execution_count": 3,
   "metadata": {
    "collapsed": false
   },
   "outputs": [
    {
     "name": "stdout",
     "output_type": "stream",
     "text": [
      "348\n",
      "Vocab size: 64272\n"
     ]
    }
   ],
   "source": [
    "#build vocabulary from train_x\n",
    "def build_vocab(data_x, min_count=100):\n",
    "    counts = defaultdict(int)\n",
    "    for x in data_x:\n",
    "        for w in x:\n",
    "            counts[w] += 1\n",
    "    print counts['finally']\n",
    "    vocab = defaultdict(int)\n",
    "    vocab[\"<unk>\"] = 0\n",
    "    for w,c in counts.iteritems():\n",
    "        if c > min_count:\n",
    "            vocab[w] = len(vocab)\n",
    "    return vocab\n",
    "\n",
    "def map_data(data_x, vocab):\n",
    "    return [[vocab[w] for w in x] for x in data_x]\n",
    "\n",
    "vocab = build_vocab(train_x)\n",
    "vocab_size = len(vocab)\n",
    "print \"Vocab size:\", vocab_size\n",
    "\n",
    "train_x = map_data(train_x, vocab)"
   ]
  },
  {
   "cell_type": "code",
   "execution_count": 3,
   "metadata": {
    "collapsed": false
   },
   "outputs": [
    {
     "ename": "NameError",
     "evalue": "name 'vocab' is not defined",
     "output_type": "error",
     "traceback": [
      "\u001b[0;31m----------------------------------------------\u001b[0m",
      "\u001b[0;31mNameError\u001b[0m    Traceback (most recent call last)",
      "\u001b[0;32m<ipython-input-3-0d86a5a72728>\u001b[0m in \u001b[0;36m<module>\u001b[0;34m()\u001b[0m\n\u001b[1;32m      4\u001b[0m \u001b[0mbatch_size\u001b[0m \u001b[0;34m=\u001b[0m \u001b[0;36m20\u001b[0m\u001b[0;34m\u001b[0m\u001b[0m\n\u001b[1;32m      5\u001b[0m \u001b[0mhidden_size\u001b[0m \u001b[0;34m=\u001b[0m \u001b[0;36m100\u001b[0m\u001b[0;34m\u001b[0m\u001b[0m\n\u001b[0;32m----> 6\u001b[0;31m \u001b[0mvocab_size\u001b[0m \u001b[0;34m=\u001b[0m \u001b[0mlen\u001b[0m\u001b[0;34m(\u001b[0m\u001b[0mvocab\u001b[0m\u001b[0;34m)\u001b[0m\u001b[0;34m\u001b[0m\u001b[0m\n\u001b[0m\u001b[1;32m      7\u001b[0m \u001b[0;34m\u001b[0m\u001b[0m\n\u001b[1;32m      8\u001b[0m \u001b[0;32mdef\u001b[0m \u001b[0mlookup_table\u001b[0m\u001b[0;34m(\u001b[0m\u001b[0minput_\u001b[0m\u001b[0;34m,\u001b[0m \u001b[0mvocab_size\u001b[0m\u001b[0;34m,\u001b[0m \u001b[0moutput_size\u001b[0m\u001b[0;34m,\u001b[0m \u001b[0mname\u001b[0m\u001b[0;34m)\u001b[0m\u001b[0;34m:\u001b[0m\u001b[0;34m\u001b[0m\u001b[0m\n",
      "\u001b[0;31mNameError\u001b[0m: name 'vocab' is not defined"
     ]
    }
   ],
   "source": [
    "import math\n",
    "\n",
    "#build RNN model\n",
    "batch_size = 20\n",
    "hidden_size = 100\n",
    "vocab_size = len(vocab)\n",
    "\n",
    "def lookup_table(input_, vocab_size, output_size, name):\n",
    "    with tf.variable_scope(name):\n",
    "        embedding = tf.get_variable(\"embedding\", [vocab_size, output_size], tf.float32, tf.random_normal_initializer(stddev=1.0 / math.sqrt(output_size)))\n",
    "    return tf.nn.embedding_lookup(embedding, input_)\n",
    "\n",
    "def linear(input_, output_size, name, init_bias=0.0):\n",
    "    shape = input_.get_shape().as_list()\n",
    "    with tf.variable_scope(name):\n",
    "        W = tf.get_variable(\"Matrix\", [shape[-1], output_size], tf.float32, tf.random_normal_initializer(stddev=1.0 / math.sqrt(shape[-1])))\n",
    "    if init_bias is None:\n",
    "        return tf.matmul(input_, W)\n",
    "    with tf.variable_scope(name):\n",
    "        b = tf.get_variable(\"bias\", [output_size], initializer=tf.constant_initializer(init_bias))\n",
    "    return tf.matmul(input_, W) + b\n",
    "\n",
    "session = tf.Session()\n",
    "\n",
    "sentence = tf.placeholder(tf.int32, [batch_size, None])\n",
    "label = tf.placeholder(tf.int32, [batch_size])\n",
    "\n",
    "embedding = lookup_table(sentence, vocab_size, hidden_size, name=\"word_embedding\")\n",
    "lstm_cell = tf.nn.rnn_cell.BasicLSTMCell(hidden_size)\n",
    "init_state = lstm_cell.zero_state(batch_size, tf.float32)\n",
    "_, final_state = tf.nn.dynamic_rnn(lstm_cell, embedding, initial_state=init_state)\n",
    "sentiment = linear(final_state[1], 1, name=\"output\")\n",
    "\n",
    "sentiment = tf.squeeze(sentiment, [1])\n",
    "loss = tf.nn.sigmoid_cross_entropy_with_logits(sentiment, label)\n",
    "\n",
    "optimizer = tf.train.AdamOptimizer().minimize(loss / batch_size)\n",
    "\n",
    "tf.global_variables_initializer().run(session=session)"
   ]
  },
  {
   "cell_type": "code",
   "execution_count": null,
   "metadata": {
    "collapsed": true
   },
   "outputs": [],
   "source": []
  }
 ],
 "metadata": {
  "anaconda-cloud": {},
  "kernelspec": {
   "display_name": "Python [conda root]",
   "language": "python",
   "name": "conda-root-py"
  },
  "language_info": {
   "codemirror_mode": {
    "name": "ipython",
    "version": 2
   },
   "file_extension": ".py",
   "mimetype": "text/x-python",
   "name": "python",
   "nbconvert_exporter": "python",
   "pygments_lexer": "ipython2",
   "version": "2.7.12"
  }
 },
 "nbformat": 4,
 "nbformat_minor": 1
}
